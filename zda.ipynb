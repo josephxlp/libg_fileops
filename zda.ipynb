{
 "cells": [
  {
   "cell_type": "code",
   "execution_count": 1,
   "metadata": {},
   "outputs": [],
   "source": [
    "from fileops import copy_file\n",
    "from upaths import source_path, destination_path"
   ]
  },
  {
   "cell_type": "code",
   "execution_count": 2,
   "metadata": {},
   "outputs": [],
   "source": [
    "\n",
    "size_threshold = 100 * 1024 * 1024  # 100 MB\n",
    "#copy_file(source_path, destination_path, size_threshold)\n",
    "#move_file(source_path, destination_path, size_threshold)"
   ]
  },
  {
   "cell_type": "code",
   "execution_count": 3,
   "metadata": {},
   "outputs": [],
   "source": [
    "from fileops import remove_directory_and_files"
   ]
  },
  {
   "cell_type": "code",
   "execution_count": 5,
   "metadata": {},
   "outputs": [],
   "source": [
    "path = \"/media/ljp238/12TBWolf/TABAUG/\"\n",
    "path = \"/media/ljp238/12TBWolf/SYNTH/\""
   ]
  },
  {
   "cell_type": "code",
   "execution_count": null,
   "metadata": {},
   "outputs": [],
   "source": [
    "remove_directory_and_files(path)"
   ]
  },
  {
   "cell_type": "code",
   "execution_count": null,
   "metadata": {},
   "outputs": [],
   "source": [
    "import os\n",
    "from fileops import remove_directory_and_files\n",
    "from concurrent.futures import ProcessPoolExecutor\n",
    "mpath = \"/media/ljp238/12TBWolf/ARCHIEVE/OUT/TILES12B\"\n",
    "tiles = os.listdir(mpath)\n",
    "\n",
    "def remove_xy_paths(xpath,ypath):\n",
    "    remove_directory_and_files(xpath)\n",
    "    remove_directory_and_files(ypath)\n",
    "\n",
    "with ProcessPoolExecutor() as PEX:\n",
    "    for tile in tiles:\n",
    "        ypath = f\"{mpath}/{tile}/YCOLS_256/\"\n",
    "        xpath = f\"{mpath}/{tile}/XCOLS_256/\"\n",
    "        PEX.submit(remove_xy_paths,xpath,ypath)\n",
    "\n"
   ]
  }
 ],
 "metadata": {
  "kernelspec": {
   "display_name": "automl",
   "language": "python",
   "name": "python3"
  },
  "language_info": {
   "codemirror_mode": {
    "name": "ipython",
    "version": 3
   },
   "file_extension": ".py",
   "mimetype": "text/x-python",
   "name": "python",
   "nbconvert_exporter": "python",
   "pygments_lexer": "ipython3",
   "version": "3.11.0"
  }
 },
 "nbformat": 4,
 "nbformat_minor": 2
}
