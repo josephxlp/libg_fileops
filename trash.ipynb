{
 "cells": [
  {
   "cell_type": "code",
   "execution_count": 1,
   "metadata": {},
   "outputs": [
    {
     "name": "stdout",
     "output_type": "stream",
     "text": [
      "6.1M\t/home/ljp238/.local/share/Trash/info\n",
      "316K\t/home/ljp238/.local/share/Trash/files\n",
      "44K\t/home/ljp238/.local/share/Trash/expunged/574971821/saga-gis/CMakeFiles/Progress\n",
      "48K\t/home/ljp238/.local/share/Trash/expunged/574971821/saga-gis/CMakeFiles\n",
      "52K\t/home/ljp238/.local/share/Trash/expunged/574971821/saga-gis\n",
      "56K\t/home/ljp238/.local/share/Trash/expunged/574971821\n",
      "76K\t/home/ljp238/.local/share/Trash/expunged\n",
      "6.5M\t/home/ljp238/.local/share/Trash\n"
     ]
    }
   ],
   "source": [
    "!du -h ~/.local/share/Trash"
   ]
  },
  {
   "cell_type": "code",
   "execution_count": 2,
   "metadata": {},
   "outputs": [
    {
     "name": "stdout",
     "output_type": "stream",
     "text": [
      "316K\t/home/ljp238/.local/share/Trash/files\n"
     ]
    }
   ],
   "source": [
    "!du -sh ~/.local/share/Trash/files"
   ]
  },
  {
   "cell_type": "code",
   "execution_count": 3,
   "metadata": {},
   "outputs": [
    {
     "name": "stdout",
     "output_type": "stream",
     "text": [
      "6.5M\t/home/ljp238/.local/share/Trash/\n"
     ]
    }
   ],
   "source": [
    "!du -sh ~/.local/share/Trash/"
   ]
  },
  {
   "cell_type": "code",
   "execution_count": null,
   "metadata": {},
   "outputs": [],
   "source": [
    "!du -sh /media/ljp238/12TBWolf/.Trash-1001/"
   ]
  },
  {
   "cell_type": "code",
   "execution_count": null,
   "metadata": {},
   "outputs": [],
   "source": [
    "/media/username/drive/.Trash-1000"
   ]
  }
 ],
 "metadata": {
  "kernelspec": {
   "display_name": "demvfill",
   "language": "python",
   "name": "python3"
  },
  "language_info": {
   "codemirror_mode": {
    "name": "ipython",
    "version": 3
   },
   "file_extension": ".py",
   "mimetype": "text/x-python",
   "name": "python",
   "nbconvert_exporter": "python",
   "pygments_lexer": "ipython3",
   "version": "3.9.7"
  }
 },
 "nbformat": 4,
 "nbformat_minor": 2
}
